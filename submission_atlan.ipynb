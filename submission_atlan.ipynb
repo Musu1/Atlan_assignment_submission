{
  "nbformat": 4,
  "nbformat_minor": 0,
  "metadata": {
    "colab": {
      "name": "submission_atlan",
      "provenance": [],
      "include_colab_link": true
    },
    "kernelspec": {
      "name": "python3",
      "display_name": "Python 3"
    }
  },
  "cells": [
    {
      "cell_type": "markdown",
      "metadata": {
        "id": "view-in-github",
        "colab_type": "text"
      },
      "source": [
        "<a href=\"https://colab.research.google.com/github/Musu1/Atlan_assignment_submission/blob/master/submission_atlan.ipynb\" target=\"_parent\"><img src=\"https://colab.research.google.com/assets/colab-badge.svg\" alt=\"Open In Colab\"/></a>"
      ]
    },
    {
      "cell_type": "code",
      "metadata": {
        "id": "nlBPgQV0lS9I",
        "colab_type": "code",
        "outputId": "68ff97f3-b3f1-4890-b4bd-fd632f0dbf77",
        "colab": {
          "base_uri": "https://localhost:8080/",
          "height": 187
        }
      },
      "source": [
        "pip install overpy"
      ],
      "execution_count": 1,
      "outputs": [
        {
          "output_type": "stream",
          "text": [
            "Collecting overpy\n",
            "\u001b[?25l  Downloading https://files.pythonhosted.org/packages/9d/20/31f2e2af0dbc05a358259b9cdf67056d34b002d8041944628d05adfab9ba/overpy-0.4.tar.gz (41kB)\n",
            "\r\u001b[K     |███████▉                        | 10kB 14.5MB/s eta 0:00:01\r\u001b[K     |███████████████▊                | 20kB 1.7MB/s eta 0:00:01\r\u001b[K     |███████████████████████▋        | 30kB 2.5MB/s eta 0:00:01\r\u001b[K     |███████████████████████████████▌| 40kB 3.3MB/s eta 0:00:01\r\u001b[K     |████████████████████████████████| 51kB 2.6MB/s \n",
            "\u001b[?25hBuilding wheels for collected packages: overpy\n",
            "  Building wheel for overpy (setup.py) ... \u001b[?25l\u001b[?25hdone\n",
            "  Created wheel for overpy: filename=overpy-0.4-cp36-none-any.whl size=45771 sha256=4b5a846c7d4586058f51ad62e9a87901516b283ffadd4dbf2593988254f5dc81\n",
            "  Stored in directory: /root/.cache/pip/wheels/10/53/c2/e6b6f97e7bb419193bd3aafbe38628666f0f93a1cec9dc521d\n",
            "Successfully built overpy\n",
            "Installing collected packages: overpy\n",
            "Successfully installed overpy-0.4\n"
          ],
          "name": "stdout"
        }
      ]
    },
    {
      "cell_type": "code",
      "metadata": {
        "id": "U9KjIvtOf6op",
        "colab_type": "code",
        "colab": {}
      },
      "source": [
        "import overpy"
      ],
      "execution_count": 0,
      "outputs": []
    },
    {
      "cell_type": "code",
      "metadata": {
        "id": "2tuuYoZBhKH3",
        "colab_type": "code",
        "colab": {}
      },
      "source": [
        "api=overpy.Overpass()"
      ],
      "execution_count": 0,
      "outputs": []
    },
    {
      "cell_type": "markdown",
      "metadata": {
        "id": "YQEiCF6NAbt7",
        "colab_type": "text"
      },
      "source": [
        "# Important URLs\n",
        "1. Tag Info API - https://taginfo.openstreetmap.org/tags\n",
        "2. Overpass API documentation - https://wiki.openstreetmap.org/wiki/Overpass_API/Overpass_QL\n",
        "3. Overpass API with query examples - https://wiki.openstreetmap.org/wiki/Overpass_API/Overpass_API_by_Example\n",
        "4. Loading data from OSM with python - https://towardsdatascience.com/loading-data-from-openstreetmap-with-python-and-the-overpass-api-513882a27fd0\n",
        "5. All the amenities list - https://wiki.openstreetmap.org/wiki/Key:amenity\n",
        "6. Overpass API - http://overpass-turbo.eu/\n",
        "7. Amazing documentation - https://buildmedia.readthedocs.org/media/pdf/python-overpy/latest/python-overpy.pdf"
      ]
    },
    {
      "cell_type": "code",
      "metadata": {
        "id": "XnYo_vgJFlNB",
        "colab_type": "code",
        "colab": {}
      },
      "source": [
        "r = api.query(\"\"\"\n",
        "area[\"ISO3166-1\"=\"Mumbai\"][admin_level=2];\n",
        "(node[\"amenity\"=\"parking\"](area);\n",
        " way[\"amenity\"=\"biergarten\"](area);\n",
        " rel[\"amenity\"=\"biergarten\"](area);\n",
        ");\n",
        "out center;\n",
        "\"\"\")"
      ],
      "execution_count": 0,
      "outputs": []
    },
    {
      "cell_type": "code",
      "metadata": {
        "id": "tL6AAQESGIx5",
        "colab_type": "code",
        "colab": {}
      },
      "source": [
        "coords  = []\n",
        "coords += [(float(node.lon), float(node.lat)) \n",
        "           for node in r.nodes]\n",
        "coords += [(float(way.center_lon), float(way.center_lat)) \n",
        "           for way in r.ways]\n",
        "coords += [(float(rel.center_lon), float(rel.center_lat)) \n",
        "           for rel in r.relations]"
      ],
      "execution_count": 0,
      "outputs": []
    },
    {
      "cell_type": "code",
      "metadata": {
        "id": "AqkY0KixGJgR",
        "colab_type": "code",
        "colab": {
          "base_uri": "https://localhost:8080/",
          "height": 34
        },
        "outputId": "4d6a9f77-df54-4bd9-92fe-9568c7d286e3"
      },
      "source": [
        "coords"
      ],
      "execution_count": 23,
      "outputs": [
        {
          "output_type": "execute_result",
          "data": {
            "text/plain": [
              "[]"
            ]
          },
          "metadata": {
            "tags": []
          },
          "execution_count": 23
        }
      ]
    },
    {
      "cell_type": "code",
      "metadata": {
        "id": "7h36kNWjhYNA",
        "colab_type": "code",
        "colab": {
          "base_uri": "https://localhost:8080/",
          "height": 384
        },
        "outputId": "31c9b7eb-3369-41f5-fb69-795401595e71"
      },
      "source": [
        "r = api.query(\"\"\"\n",
        "/*\n",
        "This has been generated by the overpass-turbo wizard.\n",
        "The original search was:\n",
        "“amenity=* and name=*”\n",
        "*/\n",
        "[out:csv(amenity, ::lat, ::lon)][timeout:25];\n",
        "// gather results\n",
        "(\n",
        "  area[name=\"Mumbai\"];\n",
        "  // query part for: “amenity=* and name=*”\n",
        "  node[\"amenity\"][\"name\"](area);\n",
        ");\n",
        "// print results\n",
        "out body;\n",
        ">;\n",
        "out skel qt;\n",
        "\"\"\")"
      ],
      "execution_count": 26,
      "outputs": [
        {
          "output_type": "stream",
          "text": [
            "ERROR:root:An unexpected error occurred while tokenizing input\n",
            "The following traceback may be corrupted or invalid\n",
            "The error message is: ('EOF in multi-line string', (1, 0))\n",
            "\n"
          ],
          "name": "stderr"
        },
        {
          "output_type": "error",
          "ename": "OverpassUnknownContentType",
          "evalue": "ignored",
          "traceback": [
            "\u001b[0;31m---------------------------------------------------------------------------\u001b[0m",
            "\u001b[0;31mOverpassUnknownContentType\u001b[0m                Traceback (most recent call last)",
            "\u001b[0;32m<ipython-input-26-aefcb274c577>\u001b[0m in \u001b[0;36m<module>\u001b[0;34m()\u001b[0m\n\u001b[1;32m     16\u001b[0m \u001b[0;34m>\u001b[0m\u001b[0;34m;\u001b[0m\u001b[0;34m\u001b[0m\u001b[0;34m\u001b[0m\u001b[0m\n\u001b[1;32m     17\u001b[0m \u001b[0mout\u001b[0m \u001b[0mskel\u001b[0m \u001b[0mqt\u001b[0m\u001b[0;34m;\u001b[0m\u001b[0;34m\u001b[0m\u001b[0;34m\u001b[0m\u001b[0m\n\u001b[0;32m---> 18\u001b[0;31m \"\"\")\n\u001b[0m",
            "\u001b[0;32m/usr/local/lib/python3.6/dist-packages/overpy/__init__.py\u001b[0m in \u001b[0;36mquery\u001b[0;34m(self, query)\u001b[0m\n\u001b[1;32m    103\u001b[0m                 \u001b[0;32mreturn\u001b[0m \u001b[0mself\u001b[0m\u001b[0;34m.\u001b[0m\u001b[0mparse_xml\u001b[0m\u001b[0;34m(\u001b[0m\u001b[0mresponse\u001b[0m\u001b[0;34m)\u001b[0m\u001b[0;34m\u001b[0m\u001b[0;34m\u001b[0m\u001b[0m\n\u001b[1;32m    104\u001b[0m \u001b[0;34m\u001b[0m\u001b[0m\n\u001b[0;32m--> 105\u001b[0;31m             \u001b[0;32mraise\u001b[0m \u001b[0mexception\u001b[0m\u001b[0;34m.\u001b[0m\u001b[0mOverpassUnknownContentType\u001b[0m\u001b[0;34m(\u001b[0m\u001b[0mcontent_type\u001b[0m\u001b[0;34m)\u001b[0m\u001b[0;34m\u001b[0m\u001b[0;34m\u001b[0m\u001b[0m\n\u001b[0m\u001b[1;32m    106\u001b[0m \u001b[0;34m\u001b[0m\u001b[0m\n\u001b[1;32m    107\u001b[0m         \u001b[0;32mif\u001b[0m \u001b[0mf\u001b[0m\u001b[0;34m.\u001b[0m\u001b[0mcode\u001b[0m \u001b[0;34m==\u001b[0m \u001b[0;36m400\u001b[0m\u001b[0;34m:\u001b[0m\u001b[0;34m\u001b[0m\u001b[0;34m\u001b[0m\u001b[0m\n",
            "\u001b[0;31mOverpassUnknownContentType\u001b[0m: Unknown content type: text/csv"
          ]
        }
      ]
    }
  ]
}