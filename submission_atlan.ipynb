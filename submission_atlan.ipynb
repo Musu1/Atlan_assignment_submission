{
  "nbformat": 4,
  "nbformat_minor": 0,
  "metadata": {
    "colab": {
      "name": "submission_atlan",
      "provenance": [],
      "include_colab_link": true
    },
    "kernelspec": {
      "name": "python3",
      "display_name": "Python 3"
    }
  },
  "cells": [
    {
      "cell_type": "markdown",
      "metadata": {
        "id": "view-in-github",
        "colab_type": "text"
      },
      "source": [
        "<a href=\"https://colab.research.google.com/github/Musu1/Atlan_assignment_submission/blob/master/submission_atlan.ipynb\" target=\"_parent\"><img src=\"https://colab.research.google.com/assets/colab-badge.svg\" alt=\"Open In Colab\"/></a>"
      ]
    },
    {
      "cell_type": "code",
      "metadata": {
        "id": "nlBPgQV0lS9I",
        "colab_type": "code",
        "outputId": "68ff97f3-b3f1-4890-b4bd-fd632f0dbf77",
        "colab": {
          "base_uri": "https://localhost:8080/",
          "height": 187
        }
      },
      "source": [
        "pip install overpy"
      ],
      "execution_count": 1,
      "outputs": [
        {
          "output_type": "stream",
          "text": [
            "Collecting overpy\n",
            "\u001b[?25l  Downloading https://files.pythonhosted.org/packages/9d/20/31f2e2af0dbc05a358259b9cdf67056d34b002d8041944628d05adfab9ba/overpy-0.4.tar.gz (41kB)\n",
            "\r\u001b[K     |███████▉                        | 10kB 14.5MB/s eta 0:00:01\r\u001b[K     |███████████████▊                | 20kB 1.7MB/s eta 0:00:01\r\u001b[K     |███████████████████████▋        | 30kB 2.5MB/s eta 0:00:01\r\u001b[K     |███████████████████████████████▌| 40kB 3.3MB/s eta 0:00:01\r\u001b[K     |████████████████████████████████| 51kB 2.6MB/s \n",
            "\u001b[?25hBuilding wheels for collected packages: overpy\n",
            "  Building wheel for overpy (setup.py) ... \u001b[?25l\u001b[?25hdone\n",
            "  Created wheel for overpy: filename=overpy-0.4-cp36-none-any.whl size=45771 sha256=4b5a846c7d4586058f51ad62e9a87901516b283ffadd4dbf2593988254f5dc81\n",
            "  Stored in directory: /root/.cache/pip/wheels/10/53/c2/e6b6f97e7bb419193bd3aafbe38628666f0f93a1cec9dc521d\n",
            "Successfully built overpy\n",
            "Installing collected packages: overpy\n",
            "Successfully installed overpy-0.4\n"
          ],
          "name": "stdout"
        }
      ]
    },
    {
      "cell_type": "code",
      "metadata": {
        "id": "U9KjIvtOf6op",
        "colab_type": "code",
        "colab": {}
      },
      "source": [
        "import overpy"
      ],
      "execution_count": 0,
      "outputs": []
    },
    {
      "cell_type": "code",
      "metadata": {
        "id": "2tuuYoZBhKH3",
        "colab_type": "code",
        "colab": {}
      },
      "source": [
        "api=overpy.Overpass()"
      ],
      "execution_count": 0,
      "outputs": []
    },
    {
      "cell_type": "markdown",
      "metadata": {
        "id": "YQEiCF6NAbt7",
        "colab_type": "text"
      },
      "source": [
        "# Important URLs\n",
        "1. Tag Info API - https://taginfo.openstreetmap.org/tags\n",
        "2. Overpass API documentation - https://wiki.openstreetmap.org/wiki/Overpass_API/Overpass_QL\n",
        "3. Overpass API with query examples - https://wiki.openstreetmap.org/wiki/Overpass_API/Overpass_API_by_Example\n",
        "4. Loading data from OSM with python - https://towardsdatascience.com/loading-data-from-openstreetmap-with-python-and-the-overpass-api-513882a27fd0\n",
        "5. All the amenities list - https://wiki.openstreetmap.org/wiki/Key:amenity"
      ]
    },
    {
      "cell_type": "code",
      "metadata": {
        "id": "7h36kNWjhYNA",
        "colab_type": "code",
        "colab": {}
      },
      "source": [
        ""
      ],
      "execution_count": 0,
      "outputs": []
    }
  ]
}